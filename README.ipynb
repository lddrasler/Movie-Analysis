{
 "cells": [
  {
   "cell_type": "markdown",
   "id": "90e9139b",
   "metadata": {},
   "source": [
    "# 1. Movie Analysis for Microsoft"
   ]
  },
  {
   "cell_type": "markdown",
   "id": "2517fc32",
   "metadata": {},
   "source": [
    "In this repository I will present analysis with recommendations to Microsoftf for their new movie production.\n",
    "\n",
    "Sources:\n",
    " - Box Office Mojo\n",
    " - IMdB\n",
    " \n",
    "Using python, I will work with several csv files which could be found in the 'zipped_data' folder.\n"
   ]
  },
  {
   "cell_type": "markdown",
   "id": "65c95ddc",
   "metadata": {},
   "source": [
    "# 2. Business Problem"
   ]
  },
  {
   "cell_type": "markdown",
   "id": "01031dd7",
   "metadata": {},
   "source": [
    "On my analysis I will be working with movies data until 2018. We will be able to undarstand and analyze, popular genres, the most profitable studios, the most popular directors and writers. "
   ]
  },
  {
   "cell_type": "markdown",
   "id": "96148493",
   "metadata": {},
   "source": [
    "# 3. Data"
   ]
  },
  {
   "cell_type": "markdown",
   "id": "83f4ac28",
   "metadata": {},
   "source": [
    "The data used on this project was present from various sources and provided by Flatiron School. From those datas we are able to analyze movies by titles, ratings, producers, studios, writers. "
   ]
  },
  {
   "cell_type": "markdown",
   "id": "11ac4d4f",
   "metadata": {},
   "source": [
    "# 4. Results "
   ]
  },
  {
   "cell_type": "markdown",
   "id": "b486e7bf",
   "metadata": {},
   "source": [
    "#### Christopher Nolan is the most popular writer by number of votes "
   ]
  },
  {
   "cell_type": "code",
   "execution_count": 2,
   "id": "d0e040e9",
   "metadata": {},
   "outputs": [],
   "source": [
    "#image"
   ]
  },
  {
   "cell_type": "markdown",
   "id": "ba1a0404",
   "metadata": {},
   "source": [
    "#### Christopher Nolan is the most popular director by number of votes based on the median"
   ]
  },
  {
   "cell_type": "code",
   "execution_count": 4,
   "id": "ab4d0967",
   "metadata": {},
   "outputs": [],
   "source": [
    "# image "
   ]
  },
  {
   "cell_type": "markdown",
   "id": "0945481f",
   "metadata": {},
   "source": [
    "#### Advanture-Action is the most popular genre by rating "
   ]
  },
  {
   "cell_type": "code",
   "execution_count": 6,
   "id": "3d464a1f",
   "metadata": {},
   "outputs": [],
   "source": [
    "#image"
   ]
  },
  {
   "cell_type": "markdown",
   "id": "3021cd77",
   "metadata": {},
   "source": [
    "#### UTV is the most profitable studio based on return $"
   ]
  },
  {
   "cell_type": "code",
   "execution_count": 11,
   "id": "24bfc2be",
   "metadata": {},
   "outputs": [],
   "source": [
    "#image"
   ]
  },
  {
   "cell_type": "code",
   "execution_count": null,
   "id": "8ff2949b",
   "metadata": {},
   "outputs": [],
   "source": []
  }
 ],
 "metadata": {
  "kernelspec": {
   "display_name": "Python 3",
   "language": "python",
   "name": "python3"
  },
  "language_info": {
   "codemirror_mode": {
    "name": "ipython",
    "version": 3
   },
   "file_extension": ".py",
   "mimetype": "text/x-python",
   "name": "python",
   "nbconvert_exporter": "python",
   "pygments_lexer": "ipython3",
   "version": "3.8.8"
  }
 },
 "nbformat": 4,
 "nbformat_minor": 5
}
