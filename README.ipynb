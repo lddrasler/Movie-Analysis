{
 "cells": [
  {
   "cell_type": "markdown",
   "id": "90e9139b",
   "metadata": {},
   "source": [
    "# 1. Movie Analysis for Microsoft"
   ]
  },
  {
   "cell_type": "markdown",
   "id": "2517fc32",
   "metadata": {},
   "source": [
    "In this repository I will present analysis with recommendations to Microsoftf for their new movie production.\n",
    "\n",
    "Sources:\n",
    " - Box Office Mojo\n",
    " - IMdB\n",
    " - Rotten Tomatoes\n",
    " - theMovieDB \n",
    " - The Numbers\n",
    "\n",
    " \n",
    "Using python, I will work with several csv files which could be found in the 'zipped_data' folder.\n"
   ]
  },
  {
   "cell_type": "markdown",
   "id": "65c95ddc",
   "metadata": {},
   "source": [
    "# 2. Business Problem"
   ]
  },
  {
   "cell_type": "markdown",
   "id": "01031dd7",
   "metadata": {},
   "source": [
    "To advise Microsoft in how best to enter the movie production business. I will base my recommendations on analysis on movie data from movies up through 2018. I will understand and analyze, popular genres, the most profitable studios, the most popular directors and writers to better inform my recommendations. "
   ]
  },
  {
   "cell_type": "markdown",
   "id": "96148493",
   "metadata": {},
   "source": [
    "# 3. Data"
   ]
  },
  {
   "cell_type": "markdown",
   "id": "83f4ac28",
   "metadata": {},
   "source": [
    "The data used on this project was present from various sources and provided by Flatiron School. From those data I am able to analyze movies by titles, ratings, producers, studios, writers."
   ]
  },
  {
   "cell_type": "markdown",
   "id": "11ac4d4f",
   "metadata": {},
   "source": [
    "# 4. Results "
   ]
  },
  {
   "cell_type": "markdown",
   "id": "b486e7bf",
   "metadata": {},
   "source": [
    "#### 1 - Christopher Nolan is the most popular writer by number of votes "
   ]
  },
  {
   "cell_type": "markdown",
   "id": "44fbbe87",
   "metadata": {},
   "source": [
    "![Writers](topwriters.png)"
   ]
  },
  {
   "cell_type": "markdown",
   "id": "ba1a0404",
   "metadata": {},
   "source": [
    "#### 2- Christopher Nolan is the most popular director by number of votes based on the median"
   ]
  },
  {
   "cell_type": "markdown",
   "id": "42b8af34",
   "metadata": {},
   "source": [
    "![Top Directors](topdirect.png)"
   ]
  },
  {
   "cell_type": "markdown",
   "id": "0945481f",
   "metadata": {},
   "source": [
    "#### 3 - Advanture-Action is the most popular genre by rating "
   ]
  },
  {
   "cell_type": "markdown",
   "id": "cac5c20a",
   "metadata": {},
   "source": [
    "![Genres](genres.png)"
   ]
  },
  {
   "cell_type": "markdown",
   "id": "3021cd77",
   "metadata": {},
   "source": [
    "#### 3 - UTV is the most profitable studio based on return on investment."
   ]
  },
  {
   "cell_type": "markdown",
   "id": "ff462279",
   "metadata": {},
   "source": [
    "![Most Profitable Studios](studiosprof.png)"
   ]
  },
  {
   "cell_type": "markdown",
   "id": "c6b840ce",
   "metadata": {},
   "source": [
    "# Summary"
   ]
  },
  {
   "cell_type": "markdown",
   "id": "537132b2",
   "metadata": {},
   "source": [
    "#### I conducted exploratory data analysis on several movie database datasets to provide recommendations to Microsoft on how best to enter the movie production business.\n",
    "\n",
    "- I make recommendations on which:\n",
    "- Writers and directors to work with,\n",
    "- Popular movie genres to focus on,\n",
    "- Movie studios to work with based on popularity or overall profitability.\n"
   ]
  }
 ],
 "metadata": {
  "kernelspec": {
   "display_name": "Python 3",
   "language": "python",
   "name": "python3"
  },
  "language_info": {
   "codemirror_mode": {
    "name": "ipython",
    "version": 3
   },
   "file_extension": ".py",
   "mimetype": "text/x-python",
   "name": "python",
   "nbconvert_exporter": "python",
   "pygments_lexer": "ipython3",
   "version": "3.8.8"
  }
 },
 "nbformat": 4,
 "nbformat_minor": 5
}
