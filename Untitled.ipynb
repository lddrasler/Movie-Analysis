{
 "cells": [
  {
   "cell_type": "code",
   "execution_count": 5,
   "id": "89c1adc9",
   "metadata": {},
   "outputs": [],
   "source": [
    "import nbconvert"
   ]
  },
  {
   "cell_type": "code",
   "execution_count": 6,
   "id": "37854cd1",
   "metadata": {},
   "outputs": [
    {
     "data": {
      "text/plain": [
       "<module 'nbconvert' from 'C:\\\\ProgramData\\\\Anaconda3\\\\lib\\\\site-packages\\\\nbconvert\\\\__init__.py'>"
      ]
     },
     "execution_count": 6,
     "metadata": {},
     "output_type": "execute_result"
    }
   ],
   "source": [
    "nbconvert"
   ]
  },
  {
   "cell_type": "code",
   "execution_count": 7,
   "id": "d5163e4a",
   "metadata": {},
   "outputs": [],
   "source": [
    "import os"
   ]
  },
  {
   "cell_type": "code",
   "execution_count": 8,
   "id": "5c3af50e",
   "metadata": {},
   "outputs": [
    {
     "data": {
      "text/plain": [
       "<function nt.chdir(path)>"
      ]
     },
     "execution_count": 8,
     "metadata": {},
     "output_type": "execute_result"
    }
   ],
   "source": [
    "os.chdir"
   ]
  },
  {
   "cell_type": "code",
   "execution_count": 9,
   "id": "38e6f65b",
   "metadata": {},
   "outputs": [
    {
     "data": {
      "text/plain": [
       "'C:\\\\Users\\\\letic\\\\Documents\\\\Flatiron\\\\dsc-phase-1-project'"
      ]
     },
     "execution_count": 9,
     "metadata": {},
     "output_type": "execute_result"
    }
   ],
   "source": [
    "pwd"
   ]
  },
  {
   "cell_type": "code",
   "execution_count": null,
   "id": "ab3c6e59",
   "metadata": {},
   "outputs": [],
   "source": [
    "nbconvert --to markdown README.ipyn"
   ]
  }
 ],
 "metadata": {
  "kernelspec": {
   "display_name": "Python 3",
   "language": "python",
   "name": "python3"
  }
 },
 "nbformat": 4,
 "nbformat_minor": 5
}
